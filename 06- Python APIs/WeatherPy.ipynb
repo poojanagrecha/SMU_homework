{
 "cells": [
  {
   "cell_type": "markdown",
   "metadata": {},
   "source": [
    "# WeatherPy\n",
    "----\n",
    "\n",
    "#### Note\n",
    "* Instructions have been included for each segment. You do not have to follow them exactly, but they are included to help you think through the steps."
   ]
  },
  {
   "cell_type": "code",
   "execution_count": 1,
   "metadata": {
    "scrolled": false
   },
   "outputs": [],
   "source": [
    "# Dependencies and Setup\n",
    "import matplotlib.pyplot as plt\n",
    "import pandas as pd\n",
    "import numpy as np\n",
    "import requests\n",
    "import time\n",
    "from scipy.stats import linregress\n",
    "\n",
    "# Import API key\n",
    "from api_keys import weather_api_key\n",
    "\n",
    "# Incorporated citipy to determine city based on latitude and longitude\n",
    "from citipy import citipy\n",
    "\n",
    "# Output File (CSV)\n",
    "output_data_file = \"output_data/cities.csv\"\n",
    "\n",
    "# Range of latitudes and longitudes\n",
    "lat_range = (-90, 90)\n",
    "lng_range = (-180, 180)"
   ]
  },
  {
   "cell_type": "code",
   "execution_count": 2,
   "metadata": {},
   "outputs": [],
   "source": [
    "from pprint import pprint"
   ]
  },
  {
   "cell_type": "markdown",
   "metadata": {},
   "source": [
    "## Generate Cities List"
   ]
  },
  {
   "cell_type": "code",
   "execution_count": 3,
   "metadata": {},
   "outputs": [
    {
     "data": {
      "text/plain": [
       "610"
      ]
     },
     "execution_count": 3,
     "metadata": {},
     "output_type": "execute_result"
    }
   ],
   "source": [
    "# List for holding lat_lngs and cities\n",
    "lat_lngs = []\n",
    "cities = []\n",
    "\n",
    "# Create a set of random lat and lng combinations\n",
    "lats = np.random.uniform(lat_range[0], lat_range[1], size=1500)\n",
    "lngs = np.random.uniform(lng_range[0], lng_range[1], size=1500)\n",
    "lat_lngs = zip(lats, lngs)\n",
    "\n",
    "# Identify nearest city for each lat, lng combination\n",
    "for lat_lng in lat_lngs:\n",
    "    city = citipy.nearest_city(lat_lng[0], lat_lng[1]).city_name\n",
    "    \n",
    "    # If the city is unique, then add it to a our cities list\n",
    "    if city not in cities:\n",
    "        cities.append(city)\n",
    "\n",
    "# Print the city count to confirm sufficient count\n",
    "len(cities)"
   ]
  },
  {
   "cell_type": "markdown",
   "metadata": {},
   "source": [
    "### Perform API Calls\n",
    "* Perform a weather check on each city using a series of successive API calls.\n",
    "* Include a print log of each city as it'sbeing processed (with the city number and city name).\n"
   ]
  },
  {
   "cell_type": "code",
   "execution_count": 4,
   "metadata": {},
   "outputs": [
    {
     "data": {
      "text/plain": [
       "'popondetta'"
      ]
     },
     "execution_count": 4,
     "metadata": {},
     "output_type": "execute_result"
    }
   ],
   "source": [
    "firstCity = cities[1]\n",
    "firstCity\n",
    "        "
   ]
  },
  {
   "cell_type": "code",
   "execution_count": 5,
   "metadata": {},
   "outputs": [
    {
     "data": {
      "text/plain": [
       "'http://api.openweathermap.org/data/2.5/weather?q=popondetta&appid=b9243e2d7b71044b8840d4590278accb&units=imperial'"
      ]
     },
     "execution_count": 5,
     "metadata": {},
     "output_type": "execute_result"
    }
   ],
   "source": [
    "# Build query URL\n",
    "units = \"imperial\"\n",
    "url = f\"http://api.openweathermap.org/data/2.5/weather?q={firstCity}&appid={weather_api_key}&units={units}\"\n",
    "\n",
    "url"
   ]
  },
  {
   "cell_type": "code",
   "execution_count": 6,
   "metadata": {},
   "outputs": [
    {
     "name": "stdout",
     "output_type": "stream",
     "text": [
      "{'base': 'stations',\n",
      " 'clouds': {'all': 100},\n",
      " 'cod': 200,\n",
      " 'coord': {'lat': -8.75, 'lon': 148.25},\n",
      " 'dt': 1588658646,\n",
      " 'id': 2088163,\n",
      " 'main': {'feels_like': 85.19,\n",
      "          'grnd_level': 1000,\n",
      "          'humidity': 95,\n",
      "          'pressure': 1009,\n",
      "          'sea_level': 1009,\n",
      "          'temp': 75.63,\n",
      "          'temp_max': 75.63,\n",
      "          'temp_min': 75.63},\n",
      " 'name': 'Popondetta',\n",
      " 'rain': {'1h': 1.31},\n",
      " 'sys': {'country': 'PG', 'sunrise': 1588623027, 'sunset': 1588665412},\n",
      " 'timezone': 36000,\n",
      " 'weather': [{'description': 'moderate rain',\n",
      "              'icon': '10d',\n",
      "              'id': 501,\n",
      "              'main': 'Rain'}],\n",
      " 'wind': {'deg': 320, 'speed': 0.49}}\n"
     ]
    }
   ],
   "source": [
    "response = requests.get(url).json()\n",
    "pprint(response)"
   ]
  },
  {
   "cell_type": "code",
   "execution_count": 7,
   "metadata": {},
   "outputs": [
    {
     "data": {
      "text/plain": [
       "100"
      ]
     },
     "execution_count": 7,
     "metadata": {},
     "output_type": "execute_result"
    }
   ],
   "source": [
    "response[\"clouds\"][\"all\"]"
   ]
  },
  {
   "cell_type": "code",
   "execution_count": 8,
   "metadata": {},
   "outputs": [],
   "source": [
    "lats = []\n",
    "longs = []\n",
    "temps = []\n",
    "humids = []\n",
    "pressures = []\n",
    "winds = []\n",
    "clouds = []\n",
    "\n",
    "citiesFound = []\n",
    "counter = 0"
   ]
  },
  {
   "cell_type": "code",
   "execution_count": 9,
   "metadata": {},
   "outputs": [
    {
     "name": "stdout",
     "output_type": "stream",
     "text": [
      "0\n",
      "50\n",
      "100\n",
      "150\n",
      "HTTPConnectionPool(host='api.openweathermap.org', port=80): Max retries exceeded with url: /data/2.5/weather?q=jamestown&appid=b9243e2d7b71044b8840d4590278accb&units=imperial (Caused by NewConnectionError('<urllib3.connection.HTTPConnection object at 0x1a23767850>: Failed to establish a new connection: [Errno 8] nodename nor servname provided, or not known'))\n",
      "HTTPConnectionPool(host='api.openweathermap.org', port=80): Max retries exceeded with url: /data/2.5/weather?q=springbok&appid=b9243e2d7b71044b8840d4590278accb&units=imperial (Caused by NewConnectionError('<urllib3.connection.HTTPConnection object at 0x1a23767850>: Failed to establish a new connection: [Errno 8] nodename nor servname provided, or not known'))\n",
      "HTTPConnectionPool(host='api.openweathermap.org', port=80): Max retries exceeded with url: /data/2.5/weather?q=beloha&appid=b9243e2d7b71044b8840d4590278accb&units=imperial (Caused by NewConnectionError('<urllib3.connection.HTTPConnection object at 0x1a23767a90>: Failed to establish a new connection: [Errno 8] nodename nor servname provided, or not known'))\n",
      "HTTPConnectionPool(host='api.openweathermap.org', port=80): Max retries exceeded with url: /data/2.5/weather?q=samusu&appid=b9243e2d7b71044b8840d4590278accb&units=imperial (Caused by NewConnectionError('<urllib3.connection.HTTPConnection object at 0x1a23767a90>: Failed to establish a new connection: [Errno 8] nodename nor servname provided, or not known'))\n",
      "HTTPConnectionPool(host='api.openweathermap.org', port=80): Max retries exceeded with url: /data/2.5/weather?q=buchanan&appid=b9243e2d7b71044b8840d4590278accb&units=imperial (Caused by NewConnectionError('<urllib3.connection.HTTPConnection object at 0x1a23767a90>: Failed to establish a new connection: [Errno 8] nodename nor servname provided, or not known'))\n",
      "HTTPConnectionPool(host='api.openweathermap.org', port=80): Max retries exceeded with url: /data/2.5/weather?q=xuddur&appid=b9243e2d7b71044b8840d4590278accb&units=imperial (Caused by NewConnectionError('<urllib3.connection.HTTPConnection object at 0x1a23767a90>: Failed to establish a new connection: [Errno 8] nodename nor servname provided, or not known'))\n",
      "250\n",
      "300\n",
      "350\n",
      "400\n",
      "450\n",
      "500\n",
      "550\n",
      "600\n"
     ]
    }
   ],
   "source": [
    "for city in cities:\n",
    "    url = f\"http://api.openweathermap.org/data/2.5/weather?q={city}&appid={weather_api_key}&units={units}\"\n",
    "    \n",
    "    try:\n",
    "        response = requests.get(url).json()\n",
    "    \n",
    "        code = response[\"cod\"]\n",
    "\n",
    "        if code == 200:  \n",
    "            citiesFound.append(city)\n",
    "            lats.append(response[\"coord\"][\"lat\"])\n",
    "            longs.append(response[\"coord\"][\"lon\"])\n",
    "            temps.append(response[\"main\"][\"temp\"])\n",
    "            humids.append(response[\"main\"][\"humidity\"])\n",
    "            pressures.append(response[\"main\"][\"pressure\"])\n",
    "\n",
    "            winds.append(response[\"wind\"][\"speed\"])\n",
    "            clouds.append(response[\"clouds\"][\"all\"])\n",
    "\n",
    "        if counter % 50 == 0:\n",
    "            print(counter)\n",
    "    \n",
    "    except Exception as e:\n",
    "        print(e)\n",
    "    \n",
    "    counter += 1\n",
    "    time.sleep(1)"
   ]
  },
  {
   "cell_type": "code",
   "execution_count": null,
   "metadata": {},
   "outputs": [],
   "source": [
    "counter"
   ]
  },
  {
   "cell_type": "markdown",
   "metadata": {},
   "source": [
    "### Convert Raw Data to DataFrame\n",
    "* Export the city data into a .csv.\n",
    "* Display the DataFrame"
   ]
  },
  {
   "cell_type": "code",
   "execution_count": 12,
   "metadata": {},
   "outputs": [
    {
     "data": {
      "text/plain": [
       "551"
      ]
     },
     "execution_count": 12,
     "metadata": {},
     "output_type": "execute_result"
    }
   ],
   "source": [
    "len(df)"
   ]
  },
  {
   "cell_type": "code",
   "execution_count": 33,
   "metadata": {},
   "outputs": [
    {
     "data": {
      "text/html": [
       "<div>\n",
       "<style scoped>\n",
       "    .dataframe tbody tr th:only-of-type {\n",
       "        vertical-align: middle;\n",
       "    }\n",
       "\n",
       "    .dataframe tbody tr th {\n",
       "        vertical-align: top;\n",
       "    }\n",
       "\n",
       "    .dataframe thead th {\n",
       "        text-align: right;\n",
       "    }\n",
       "</style>\n",
       "<table border=\"1\" class=\"dataframe\">\n",
       "  <thead>\n",
       "    <tr style=\"text-align: right;\">\n",
       "      <th></th>\n",
       "      <th>Cities</th>\n",
       "      <th>Latitude</th>\n",
       "      <th>Longitude</th>\n",
       "      <th>Temperature</th>\n",
       "      <th>Humidity</th>\n",
       "      <th>Pressure</th>\n",
       "      <th>Wind_speed</th>\n",
       "      <th>Cloudiness</th>\n",
       "    </tr>\n",
       "  </thead>\n",
       "  <tbody>\n",
       "    <tr>\n",
       "      <th>0</th>\n",
       "      <td>almaguer</td>\n",
       "      <td>1.92</td>\n",
       "      <td>-76.85</td>\n",
       "      <td>53.85</td>\n",
       "      <td>50</td>\n",
       "      <td>1014</td>\n",
       "      <td>4.32</td>\n",
       "      <td>61</td>\n",
       "    </tr>\n",
       "    <tr>\n",
       "      <th>1</th>\n",
       "      <td>popondetta</td>\n",
       "      <td>-8.75</td>\n",
       "      <td>148.25</td>\n",
       "      <td>75.63</td>\n",
       "      <td>95</td>\n",
       "      <td>1009</td>\n",
       "      <td>0.49</td>\n",
       "      <td>100</td>\n",
       "    </tr>\n",
       "    <tr>\n",
       "      <th>2</th>\n",
       "      <td>albany</td>\n",
       "      <td>42.60</td>\n",
       "      <td>-73.97</td>\n",
       "      <td>43.50</td>\n",
       "      <td>76</td>\n",
       "      <td>1011</td>\n",
       "      <td>8.84</td>\n",
       "      <td>0</td>\n",
       "    </tr>\n",
       "    <tr>\n",
       "      <th>3</th>\n",
       "      <td>mvuma</td>\n",
       "      <td>-19.28</td>\n",
       "      <td>30.53</td>\n",
       "      <td>60.08</td>\n",
       "      <td>44</td>\n",
       "      <td>1024</td>\n",
       "      <td>11.70</td>\n",
       "      <td>1</td>\n",
       "    </tr>\n",
       "    <tr>\n",
       "      <th>4</th>\n",
       "      <td>santa cruz del norte</td>\n",
       "      <td>23.15</td>\n",
       "      <td>-81.92</td>\n",
       "      <td>70.66</td>\n",
       "      <td>83</td>\n",
       "      <td>1016</td>\n",
       "      <td>4.70</td>\n",
       "      <td>5</td>\n",
       "    </tr>\n",
       "  </tbody>\n",
       "</table>\n",
       "</div>"
      ],
      "text/plain": [
       "                 Cities  Latitude  Longitude  Temperature  Humidity  Pressure  \\\n",
       "0              almaguer      1.92     -76.85        53.85        50      1014   \n",
       "1            popondetta     -8.75     148.25        75.63        95      1009   \n",
       "2                albany     42.60     -73.97        43.50        76      1011   \n",
       "3                 mvuma    -19.28      30.53        60.08        44      1024   \n",
       "4  santa cruz del norte     23.15     -81.92        70.66        83      1016   \n",
       "\n",
       "   Wind_speed  Cloudiness  \n",
       "0        4.32          61  \n",
       "1        0.49         100  \n",
       "2        8.84           0  \n",
       "3       11.70           1  \n",
       "4        4.70           5  "
      ]
     },
     "execution_count": 33,
     "metadata": {},
     "output_type": "execute_result"
    }
   ],
   "source": [
    "df = pd.DataFrame()\n",
    "df[\"Cities\"] = citiesFound\n",
    "df[\"Latitude\"] = lats\n",
    "df[\"Longitude\"] = longs\n",
    "df[\"Temperature\"] = temps\n",
    "df[\"Humidity\"] = humids\n",
    "df[\"Pressure\"] = pressures\n",
    "df[\"Wind_speed\"] = winds\n",
    "df[\"Cloudiness\"] = clouds\n",
    "\n",
    "df.head()"
   ]
  },
  {
   "cell_type": "code",
   "execution_count": null,
   "metadata": {},
   "outputs": [],
   "source": [
    "weather_dataframe.head()"
   ]
  },
  {
   "cell_type": "markdown",
   "metadata": {},
   "source": [
    "## Inspect the data and remove the cities where the humidity > 100%.\n",
    "----\n",
    "Skip this step if there are no cities that have humidity > 100%. "
   ]
  },
  {
   "cell_type": "code",
   "execution_count": 22,
   "metadata": {},
   "outputs": [
    {
     "data": {
      "text/html": [
       "<div>\n",
       "<style scoped>\n",
       "    .dataframe tbody tr th:only-of-type {\n",
       "        vertical-align: middle;\n",
       "    }\n",
       "\n",
       "    .dataframe tbody tr th {\n",
       "        vertical-align: top;\n",
       "    }\n",
       "\n",
       "    .dataframe thead th {\n",
       "        text-align: right;\n",
       "    }\n",
       "</style>\n",
       "<table border=\"1\" class=\"dataframe\">\n",
       "  <thead>\n",
       "    <tr style=\"text-align: right;\">\n",
       "      <th></th>\n",
       "      <th>latitude</th>\n",
       "      <th>longitude</th>\n",
       "      <th>temperature</th>\n",
       "      <th>humidity</th>\n",
       "      <th>pressure</th>\n",
       "      <th>wind_speed</th>\n",
       "      <th>cloudiness</th>\n",
       "    </tr>\n",
       "  </thead>\n",
       "  <tbody>\n",
       "    <tr>\n",
       "      <th>count</th>\n",
       "      <td>551.000000</td>\n",
       "      <td>551.000000</td>\n",
       "      <td>551.000000</td>\n",
       "      <td>551.000000</td>\n",
       "      <td>551.000000</td>\n",
       "      <td>551.000000</td>\n",
       "      <td>551.000000</td>\n",
       "    </tr>\n",
       "    <tr>\n",
       "      <th>mean</th>\n",
       "      <td>18.958058</td>\n",
       "      <td>16.576534</td>\n",
       "      <td>62.675535</td>\n",
       "      <td>68.827586</td>\n",
       "      <td>1013.586207</td>\n",
       "      <td>8.170127</td>\n",
       "      <td>49.021779</td>\n",
       "    </tr>\n",
       "    <tr>\n",
       "      <th>std</th>\n",
       "      <td>33.252386</td>\n",
       "      <td>90.935476</td>\n",
       "      <td>19.711972</td>\n",
       "      <td>22.702928</td>\n",
       "      <td>6.632380</td>\n",
       "      <td>5.687380</td>\n",
       "      <td>39.198417</td>\n",
       "    </tr>\n",
       "    <tr>\n",
       "      <th>min</th>\n",
       "      <td>-54.800000</td>\n",
       "      <td>-179.170000</td>\n",
       "      <td>-3.870000</td>\n",
       "      <td>7.000000</td>\n",
       "      <td>984.000000</td>\n",
       "      <td>0.220000</td>\n",
       "      <td>0.000000</td>\n",
       "    </tr>\n",
       "    <tr>\n",
       "      <th>25%</th>\n",
       "      <td>-7.625000</td>\n",
       "      <td>-64.540000</td>\n",
       "      <td>50.000000</td>\n",
       "      <td>58.000000</td>\n",
       "      <td>1009.000000</td>\n",
       "      <td>3.970000</td>\n",
       "      <td>3.000000</td>\n",
       "    </tr>\n",
       "    <tr>\n",
       "      <th>50%</th>\n",
       "      <td>20.960000</td>\n",
       "      <td>20.520000</td>\n",
       "      <td>64.990000</td>\n",
       "      <td>74.000000</td>\n",
       "      <td>1013.000000</td>\n",
       "      <td>6.930000</td>\n",
       "      <td>46.000000</td>\n",
       "    </tr>\n",
       "    <tr>\n",
       "      <th>75%</th>\n",
       "      <td>46.460000</td>\n",
       "      <td>100.345000</td>\n",
       "      <td>78.150000</td>\n",
       "      <td>87.000000</td>\n",
       "      <td>1018.000000</td>\n",
       "      <td>11.410000</td>\n",
       "      <td>90.000000</td>\n",
       "    </tr>\n",
       "    <tr>\n",
       "      <th>max</th>\n",
       "      <td>78.220000</td>\n",
       "      <td>179.320000</td>\n",
       "      <td>109.400000</td>\n",
       "      <td>100.000000</td>\n",
       "      <td>1035.000000</td>\n",
       "      <td>34.450000</td>\n",
       "      <td>100.000000</td>\n",
       "    </tr>\n",
       "  </tbody>\n",
       "</table>\n",
       "</div>"
      ],
      "text/plain": [
       "         latitude   longitude  temperature    humidity     pressure  \\\n",
       "count  551.000000  551.000000   551.000000  551.000000   551.000000   \n",
       "mean    18.958058   16.576534    62.675535   68.827586  1013.586207   \n",
       "std     33.252386   90.935476    19.711972   22.702928     6.632380   \n",
       "min    -54.800000 -179.170000    -3.870000    7.000000   984.000000   \n",
       "25%     -7.625000  -64.540000    50.000000   58.000000  1009.000000   \n",
       "50%     20.960000   20.520000    64.990000   74.000000  1013.000000   \n",
       "75%     46.460000  100.345000    78.150000   87.000000  1018.000000   \n",
       "max     78.220000  179.320000   109.400000  100.000000  1035.000000   \n",
       "\n",
       "       wind_speed  cloudiness  \n",
       "count  551.000000  551.000000  \n",
       "mean     8.170127   49.021779  \n",
       "std      5.687380   39.198417  \n",
       "min      0.220000    0.000000  \n",
       "25%      3.970000    3.000000  \n",
       "50%      6.930000   46.000000  \n",
       "75%     11.410000   90.000000  \n",
       "max     34.450000  100.000000  "
      ]
     },
     "execution_count": 22,
     "metadata": {},
     "output_type": "execute_result"
    }
   ],
   "source": [
    "df.describe()"
   ]
  },
  {
   "cell_type": "code",
   "execution_count": 23,
   "metadata": {},
   "outputs": [
    {
     "data": {
      "text/html": [
       "<div>\n",
       "<style scoped>\n",
       "    .dataframe tbody tr th:only-of-type {\n",
       "        vertical-align: middle;\n",
       "    }\n",
       "\n",
       "    .dataframe tbody tr th {\n",
       "        vertical-align: top;\n",
       "    }\n",
       "\n",
       "    .dataframe thead th {\n",
       "        text-align: right;\n",
       "    }\n",
       "</style>\n",
       "<table border=\"1\" class=\"dataframe\">\n",
       "  <thead>\n",
       "    <tr style=\"text-align: right;\">\n",
       "      <th></th>\n",
       "      <th>cities</th>\n",
       "      <th>latitude</th>\n",
       "      <th>longitude</th>\n",
       "      <th>temperature</th>\n",
       "      <th>humidity</th>\n",
       "      <th>pressure</th>\n",
       "      <th>wind_speed</th>\n",
       "      <th>cloudiness</th>\n",
       "    </tr>\n",
       "  </thead>\n",
       "  <tbody>\n",
       "    <tr>\n",
       "      <th>0</th>\n",
       "      <td>almaguer</td>\n",
       "      <td>1.92</td>\n",
       "      <td>-76.85</td>\n",
       "      <td>53.85</td>\n",
       "      <td>50</td>\n",
       "      <td>1014</td>\n",
       "      <td>4.32</td>\n",
       "      <td>61</td>\n",
       "    </tr>\n",
       "    <tr>\n",
       "      <th>1</th>\n",
       "      <td>popondetta</td>\n",
       "      <td>-8.75</td>\n",
       "      <td>148.25</td>\n",
       "      <td>75.63</td>\n",
       "      <td>95</td>\n",
       "      <td>1009</td>\n",
       "      <td>0.49</td>\n",
       "      <td>100</td>\n",
       "    </tr>\n",
       "    <tr>\n",
       "      <th>2</th>\n",
       "      <td>albany</td>\n",
       "      <td>42.60</td>\n",
       "      <td>-73.97</td>\n",
       "      <td>43.50</td>\n",
       "      <td>76</td>\n",
       "      <td>1011</td>\n",
       "      <td>8.84</td>\n",
       "      <td>0</td>\n",
       "    </tr>\n",
       "    <tr>\n",
       "      <th>3</th>\n",
       "      <td>mvuma</td>\n",
       "      <td>-19.28</td>\n",
       "      <td>30.53</td>\n",
       "      <td>60.08</td>\n",
       "      <td>44</td>\n",
       "      <td>1024</td>\n",
       "      <td>11.70</td>\n",
       "      <td>1</td>\n",
       "    </tr>\n",
       "    <tr>\n",
       "      <th>4</th>\n",
       "      <td>santa cruz del norte</td>\n",
       "      <td>23.15</td>\n",
       "      <td>-81.92</td>\n",
       "      <td>70.66</td>\n",
       "      <td>83</td>\n",
       "      <td>1016</td>\n",
       "      <td>4.70</td>\n",
       "      <td>5</td>\n",
       "    </tr>\n",
       "  </tbody>\n",
       "</table>\n",
       "</div>"
      ],
      "text/plain": [
       "                 cities  latitude  longitude  temperature  humidity  pressure  \\\n",
       "0              almaguer      1.92     -76.85        53.85        50      1014   \n",
       "1            popondetta     -8.75     148.25        75.63        95      1009   \n",
       "2                albany     42.60     -73.97        43.50        76      1011   \n",
       "3                 mvuma    -19.28      30.53        60.08        44      1024   \n",
       "4  santa cruz del norte     23.15     -81.92        70.66        83      1016   \n",
       "\n",
       "   wind_speed  cloudiness  \n",
       "0        4.32          61  \n",
       "1        0.49         100  \n",
       "2        8.84           0  \n",
       "3       11.70           1  \n",
       "4        4.70           5  "
      ]
     },
     "execution_count": 23,
     "metadata": {},
     "output_type": "execute_result"
    }
   ],
   "source": [
    "#  Get the indices of cities that have humidity over 100%.\n",
    "mask = df.humidity <= 100\n",
    "df_sub = df.loc[mask].reset_index(drop=True)\n",
    "\n",
    "df_sub.head()  "
   ]
  },
  {
   "cell_type": "code",
   "execution_count": null,
   "metadata": {},
   "outputs": [],
   "source": [
    "# Make a new DataFrame equal to the city data to drop all humidity outliers by index.\n",
    "# Passing \"inplace=False\" will make a copy of the city_data DataFrame, which we call \"clean_city_data\".\n"
   ]
  },
  {
   "cell_type": "code",
   "execution_count": null,
   "metadata": {},
   "outputs": [],
   "source": [
    "# Extract relevant fields from the data frame\n",
    "\n",
    "\n",
    "# Export the City_Data into a csv\n"
   ]
  },
  {
   "cell_type": "markdown",
   "metadata": {},
   "source": [
    "## Plotting the Data\n",
    "* Use proper labeling of the plots using plot titles (including date of analysis) and axes labels.\n",
    "* Save the plotted figures as .pngs."
   ]
  },
  {
   "cell_type": "markdown",
   "metadata": {},
   "source": [
    "## Latitude vs. Temperature Plot"
   ]
  },
  {
   "cell_type": "code",
   "execution_count": 24,
   "metadata": {
    "scrolled": true
   },
   "outputs": [
    {
     "data": {
      "image/png": "[encoded data removed]",
      "text/plain": [
       "<Figure size 432x288 with 1 Axes>"
      ]
     },
     "metadata": {
      "needs_background": "light"
     },
     "output_type": "display_data"
    }
   ],
   "source": [
    "plt.scatter(df.latitude, df.temperature, color=\"red\")\n",
    "plt.xlabel(\"Latitude\")\n",
    "plt.ylabel(\"Temperature\")\n",
    "plt.title(\"Latitude vs Temperature\", fontsize=16, fontweight=\"bold\")\n",
    "plt.show()"
   ]
  },
  {
   "cell_type": "markdown",
   "metadata": {},
   "source": [
    "## Latitude vs. Humidity Plot"
   ]
  },
  {
   "cell_type": "code",
   "execution_count": 25,
   "metadata": {},
   "outputs": [
    {
     "data": {
      "image/png": "[encoded data removed]",
      "text/plain": [
       "<Figure size 432x288 with 1 Axes>"
      ]
     },
     "metadata": {
      "needs_background": "light"
     },
     "output_type": "display_data"
    }
   ],
   "source": [
    "plt.scatter(df.latitude, df.humidity, color=\"pink\")\n",
    "plt.xlabel(\"Latitude\")\n",
    "plt.ylabel(\"Humidity\")\n",
    "plt.title(\"Latitude vs Humidity\", fontsize=16, fontweight=\"bold\")\n",
    "plt.show()"
   ]
  },
  {
   "cell_type": "markdown",
   "metadata": {},
   "source": [
    "## Latitude vs. Cloudiness Plot"
   ]
  },
  {
   "cell_type": "code",
   "execution_count": 29,
   "metadata": {},
   "outputs": [
    {
     "data": {
      "image/png": "[encoded data removed]",
      "text/plain": [
       "<Figure size 432x288 with 1 Axes>"
      ]
     },
     "metadata": {
      "needs_background": "light"
     },
     "output_type": "display_data"
    }
   ],
   "source": [
    "plt.scatter(df.latitude, df.cloudiness, color=\"gold\")\n",
    "plt.xlabel(\"Latitude\")\n",
    "plt.ylabel(\"Cloudiness\")\n",
    "plt.title(\"Latitude vs Cloudiness\", fontsize=16, fontweight=\"bold\")\n",
    "plt.show()"
   ]
  },
  {
   "cell_type": "markdown",
   "metadata": {},
   "source": [
    "## Latitude vs. Wind Speed Plot"
   ]
  },
  {
   "cell_type": "code",
   "execution_count": 30,
   "metadata": {
    "scrolled": true
   },
   "outputs": [
    {
     "data": {
      "image/png": "[encoded data removed]",
      "text/plain": [
       "<Figure size 432x288 with 1 Axes>"
      ]
     },
     "metadata": {
      "needs_background": "light"
     },
     "output_type": "display_data"
    }
   ],
   "source": [
    "plt.scatter(df.latitude, df.wind_speed, color=\"brown\")\n",
    "plt.xlabel(\"Latitude\")\n",
    "plt.ylabel(\"Wind Speed\")\n",
    "plt.title(\"Latitude vs Wind Speed\", fontsize=16, fontweight=\"bold\")\n",
    "plt.show()"
   ]
  },
  {
   "cell_type": "markdown",
   "metadata": {},
   "source": [
    "## Linear Regression"
   ]
  },
  {
   "cell_type": "code",
   "execution_count": null,
   "metadata": {},
   "outputs": [],
   "source": [
    "# OPTIONAL: Create a function to create Linear Regression plots"
   ]
  },
  {
   "cell_type": "code",
   "execution_count": null,
   "metadata": {},
   "outputs": [],
   "source": [
    "# Create Northern and Southern Hemisphere DataFrames"
   ]
  },
  {
   "cell_type": "markdown",
   "metadata": {},
   "source": [
    "####  Northern Hemisphere - Max Temp vs. Latitude Linear Regression"
   ]
  },
  {
   "cell_type": "markdown",
   "metadata": {},
   "source": [
    "####  Southern Hemisphere - Max Temp vs. Latitude Linear Regression"
   ]
  },
  {
   "cell_type": "code",
   "execution_count": null,
   "metadata": {},
   "outputs": [],
   "source": []
  },
  {
   "cell_type": "markdown",
   "metadata": {},
   "source": [
    "####  Northern Hemisphere - Humidity (%) vs. Latitude Linear Regression"
   ]
  },
  {
   "cell_type": "code",
   "execution_count": null,
   "metadata": {},
   "outputs": [],
   "source": []
  },
  {
   "cell_type": "markdown",
   "metadata": {},
   "source": [
    "####  Southern Hemisphere - Humidity (%) vs. Latitude Linear Regression"
   ]
  },
  {
   "cell_type": "code",
   "execution_count": null,
   "metadata": {},
   "outputs": [],
   "source": []
  },
  {
   "cell_type": "markdown",
   "metadata": {},
   "source": [
    "####  Northern Hemisphere - Cloudiness (%) vs. Latitude Linear Regression"
   ]
  },
  {
   "cell_type": "code",
   "execution_count": null,
   "metadata": {},
   "outputs": [],
   "source": []
  },
  {
   "cell_type": "markdown",
   "metadata": {},
   "source": [
    "####  Southern Hemisphere - Cloudiness (%) vs. Latitude Linear Regression"
   ]
  },
  {
   "cell_type": "code",
   "execution_count": null,
   "metadata": {},
   "outputs": [],
   "source": []
  },
  {
   "cell_type": "markdown",
   "metadata": {},
   "source": [
    "####  Northern Hemisphere - Wind Speed (mph) vs. Latitude Linear Regression"
   ]
  },
  {
   "cell_type": "code",
   "execution_count": null,
   "metadata": {},
   "outputs": [],
   "source": []
  },
  {
   "cell_type": "markdown",
   "metadata": {},
   "source": [
    "####  Southern Hemisphere - Wind Speed (mph) vs. Latitude Linear Regression"
   ]
  },
  {
   "cell_type": "code",
   "execution_count": null,
   "metadata": {},
   "outputs": [],
   "source": []
  },
  {
   "cell_type": "code",
   "execution_count": null,
   "metadata": {},
   "outputs": [],
   "source": []
  }
 ],
 "metadata": {
  "anaconda-cloud": {},
  "kernel_info": {
   "name": "python3"
  },
  "kernelspec": {
   "display_name": "Python 3",
   "language": "python",
   "name": "python3"
  },
  "language_info": {
   "codemirror_mode": {
    "name": "ipython",
    "version": 3
   },
   "file_extension": ".py",
   "mimetype": "text/x-python",
   "name": "python",
   "nbconvert_exporter": "python",
   "pygments_lexer": "ipython3",
   "version": "3.7.6"
  },
  "latex_envs": {
   "LaTeX_envs_menu_present": true,
   "autoclose": false,
   "autocomplete": true,
   "bibliofile": "biblio.bib",
   "cite_by": "apalike",
   "current_citInitial": 1,
   "eqLabelWithNumbers": true,
   "eqNumInitial": 1,
   "hotkeys": {
    "equation": "Ctrl-E",
    "itemize": "Ctrl-I"
   },
   "labels_anchors": false,
   "latex_user_defs": false,
   "report_style_numbering": false,
   "user_envs_cfg": false
  },
  "nteract": {
   "version": "0.12.3"
  }
 },
 "nbformat": 4,
 "nbformat_minor": 2
}
